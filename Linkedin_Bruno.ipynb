{
  "nbformat": 4,
  "nbformat_minor": 0,
  "metadata": {
    "colab": {
      "provenance": [],
      "authorship_tag": "ABX9TyPHURLSoFGhM+nce02Kk35X",
      "include_colab_link": true
    },
    "kernelspec": {
      "name": "python3",
      "display_name": "Python 3"
    },
    "language_info": {
      "name": "python"
    }
  },
  "cells": [
    {
      "cell_type": "markdown",
      "metadata": {
        "id": "view-in-github",
        "colab_type": "text"
      },
      "source": [
        "<a href=\"https://colab.research.google.com/github/Linomc/contagem_seguidores_linkedin/blob/main/Linkedin_Bruno.ipynb\" target=\"_parent\"><img src=\"https://colab.research.google.com/assets/colab-badge.svg\" alt=\"Open In Colab\"/></a>"
      ]
    },
    {
      "cell_type": "markdown",
      "source": [
        "## Contabilização dos seguidores a partir do que o linkedin informa, estudo de caso:\n",
        "\n",
        "* \"O primeiro do linkedin que tendo 10000 seguidores em determinada data eu teria que calcular para frente e para trás o crescimento ou queda de cada período.  Podendo os numeros serem positivos ou negativos. Exemplo: -3 , 4, 0 , 1\"\n"
      ],
      "metadata": {
        "id": "ujfpzcxjGJhI"
      }
    },
    {
      "cell_type": "code",
      "execution_count": 26,
      "metadata": {
        "id": "xKqLenOHGFBG"
      },
      "outputs": [],
      "source": [
        "seguidores_hoje = 1000\n",
        "variacao_seguidores = [-3,4,0,1]\n",
        "dias_antecendentes = [-4,-3,-2,-1]"
      ]
    },
    {
      "cell_type": "markdown",
      "source": [
        "Olhando os dados interpreto que seja uma sequência (mas não é uma PA e nem uma PG) que modelei assim:\n",
        "\n",
        "razão nesse caso é uma lista que chamarei de r= [-3,4,0,1]\n",
        "\n",
        "i = 0 até len(r)\n",
        "\n",
        "sendo i $\\in$ $𝘕$\n",
        "\n",
        "$a_0$ = 1000\n",
        "\n",
        "$a_i$ = $a_0$ - $∑r_i$"
      ],
      "metadata": {
        "id": "84jqM65-R0Kg"
      }
    },
    {
      "cell_type": "code",
      "source": [
        "import matplotlib.pyplot as plt\n",
        "from pandas import DataFrame\n",
        "\n",
        "seguidores_dia= []\n",
        "for i, dia in enumerate(dias_antecendentes):\n",
        "  seguidores_dia.append([dia, seguidores_hoje - sum(variacao_seguidores[:4-i])])\n",
        "seguidores_dia.append([0,seguidores_hoje])"
      ],
      "metadata": {
        "id": "g-rFzxGGHZu1"
      },
      "execution_count": 24,
      "outputs": []
    },
    {
      "cell_type": "code",
      "source": [
        "seguidores_dia"
      ],
      "metadata": {
        "colab": {
          "base_uri": "https://localhost:8080/"
        },
        "id": "wtYblqszRBXk",
        "outputId": "027e7206-3222-4e5a-d4b0-2d122584756a"
      },
      "execution_count": 25,
      "outputs": [
        {
          "output_type": "execute_result",
          "data": {
            "text/plain": [
              "[[-4, 998], [-3, 999], [-2, 999], [-1, 1003], [0, 1000]]"
            ]
          },
          "metadata": {},
          "execution_count": 25
        }
      ]
    }
  ]
}